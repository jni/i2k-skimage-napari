{
 "cells": [
  {
   "cell_type": "code",
   "execution_count": 1,
   "metadata": {
    "tags": [
     "hide-cell"
    ]
   },
   "outputs": [],
   "source": [
    "%matplotlib inline\n",
    "%config InlineBackend.figure_format = 'retina'\n",
    "%gui qt"
   ]
  },
  {
   "cell_type": "code",
   "execution_count": null,
   "metadata": {
    "tags": [
     "hide-cell"
    ]
   },
   "outputs": [],
   "source": [
    "import time\n",
    "time.sleep(5)"
   ]
  },
  {
   "cell_type": "markdown",
   "metadata": {},
   "source": [
    "# Segmentation\n",
    "\n",
    "--------------\n",
    "\n",
    "## Separating an image into one or more regions of interest.\n",
    "\n",
    "Everyone has heard or seen Photoshop or a similar graphics editor take a person from one image and place them into another.  The first step of doing this is *identifying where that person is in the source image*.\n",
    "\n",
    "In popular culture, the Terminator's vision segments humans out of the overall scene:\n",
    "\n",
    "<img src=\"../images/terminator-vision.png\" width=\"700px\"/>\n",
    "\n",
    "Segmentation is a fundamental operation in scientific image analysis because we often want to measure properties of real, physical *objects* such as cells embedded in our image. As such, we want to find those objects within our image."
   ]
  },
  {
   "cell_type": "markdown",
   "metadata": {},
   "source": [
    "Computationally, segmentations are most often represented as images, of the same size as the original image, containing integer *labels*, with one value representing one object.\n",
    "\n",
    "Here is a very simple image and segmentation, taken from [this scikit-image tutorial](https://scikit-image.org/docs/dev/auto_examples/segmentation/plot_watershed.html#sphx-glr-auto-examples-segmentation-plot-watershed-py):"
   ]
  },
  {
   "cell_type": "code",
   "execution_count": 2,
   "metadata": {},
   "outputs": [],
   "source": [
    "import numpy as np\n",
    "from scipy import ndimage as ndi\n",
    "\n",
    "import napari\n",
    "\n",
    "from skimage.segmentation import watershed\n",
    "from skimage.feature import peak_local_max\n",
    "\n",
    "\n",
    "# Generate an initial image with two overlapping circles\n",
    "x, y = np.indices((80, 80))\n",
    "x1, y1, x2, y2 = 28, 28, 44, 52\n",
    "r1, r2 = 16, 20\n",
    "mask_circle1 = (x - x1)**2 + (y - y1)**2 < r1**2\n",
    "mask_circle2 = (x - x2)**2 + (y - y2)**2 < r2**2\n",
    "image = np.logical_or(mask_circle1, mask_circle2)\n",
    "\n",
    "# Now we want to separate the two objects in image\n",
    "# Generate the markers as local maxima of the distance to the background\n",
    "distance = ndi.distance_transform_edt(image)\n",
    "coords = peak_local_max(distance, footprint=np.ones((3, 3)), labels=image)\n",
    "mask = np.zeros(distance.shape, dtype=bool)\n",
    "mask[tuple(coords.T)] = True\n",
    "markers, _ = ndi.label(mask)\n",
    "labels = watershed(-distance, markers, mask=image)\n",
    "\n",
    "viewer = napari.Viewer()\n",
    "image_layer = viewer.add_image(image)\n",
    "labels_layer = viewer.add_labels(labels)\n",
    "labels_as_image_layer = viewer.add_image(\n",
    "    labels, name='labels as image'\n",
    ")"
   ]
  },
  {
   "cell_type": "code",
   "execution_count": 4,
   "metadata": {},
   "outputs": [],
   "source": [
    "viewer.window.activate()"
   ]
  },
  {
   "cell_type": "code",
   "execution_count": 3,
   "metadata": {},
   "outputs": [
    {
     "name": "stdout",
     "output_type": "stream",
     "text": [
      "/Users/jni/conda/envs/i2k/bin/python\n"
     ]
    }
   ],
   "source": [
    "import sys\n",
    "print(sys.executable)"
   ]
  },
  {
   "cell_type": "markdown",
   "metadata": {},
   "source": [
    "Notice that \"labels\" is just a NumPy array with integer values. We have to be careful to interpret it as labels and not as an image."
   ]
  },
  {
   "cell_type": "markdown",
   "metadata": {},
   "source": [
    "## Segmenting nuclei and measuring cell properties"
   ]
  },
  {
   "cell_type": "markdown",
   "metadata": {},
   "source": [
    "In the rest of this notebook, we will segment nuclei from a small sample image provided by the Allen Institute for Cell Science."
   ]
  },
  {
   "cell_type": "code",
   "execution_count": 5,
   "metadata": {},
   "outputs": [
    {
     "name": "stdout",
     "output_type": "stream",
     "text": [
      "shape: (60, 256, 256)\n",
      "dtype: float64\n",
      "range: (0.0, 1.0)\n"
     ]
    }
   ],
   "source": [
    "import tifffile\n",
    "\n",
    "\n",
    "nuclei = tifffile.imread('../images/cells.tif')\n",
    "membranes = tifffile.imread('../images/cells_membrane.tif')\n",
    "\n",
    "print(\"shape: {}\".format(nuclei.shape))\n",
    "print(\"dtype: {}\".format(nuclei.dtype))\n",
    "print(\"range: ({}, {})\".format(np.min(nuclei), np.max(nuclei)))"
   ]
  },
  {
   "cell_type": "markdown",
   "metadata": {},
   "source": [
    "The pixel spacing in this dataset is 0.29µm in the z (leading!) axis, and 0.26µm in the x and y axes."
   ]
  },
  {
   "cell_type": "code",
   "execution_count": 6,
   "metadata": {},
   "outputs": [],
   "source": [
    "spacing = np.array([0.29, 0.26, 0.26])"
   ]
  },
  {
   "cell_type": "markdown",
   "metadata": {},
   "source": [
    "We can view the 3D image using napari."
   ]
  },
  {
   "cell_type": "code",
   "execution_count": 7,
   "metadata": {},
   "outputs": [],
   "source": [
    "viewer = napari.view_image(\n",
    "    nuclei,\n",
    "    contrast_limits=[0, 1],\n",
    "    scale=spacing,\n",
    "    ndisplay=3,\n",
    ")"
   ]
  },
  {
   "cell_type": "code",
   "execution_count": null,
   "metadata": {
    "tags": [
     "hide-input"
    ]
   },
   "outputs": [],
   "source": [
    "from napari.utils.notebook_display import nbscreenshot\n",
    "\n",
    "viewer.dims.ndisplay = 3\n",
    "viewer.camera.angles = (-30, 25, 120)\n",
    "nbscreenshot(viewer)"
   ]
  },
  {
   "cell_type": "markdown",
   "metadata": {},
   "source": [
    "## Edge detection\n",
    "\n",
    "We saw the [Sobel operator](https://en.wikipedia.org/wiki/Sobel_operator) in the filters lesson. It is an edge detection algorithm that approximates the gradient of the image intensity, and is fast to compute. The [Scharr filter](https://scikit-image.org/docs/dev/api/skimage.filters.html#skimage.filters.scharr) is a slightly more sophisticated version, with smoothing weights [3, 10, 3]. Both work for n-dimensional images in scikit-image."
   ]
  },
  {
   "cell_type": "code",
   "execution_count": 8,
   "metadata": {},
   "outputs": [
    {
     "data": {
      "text/plain": [
       "<Image layer 'edges' at 0x7fd1c9a9f820>"
      ]
     },
     "execution_count": 8,
     "metadata": {},
     "output_type": "execute_result"
    }
   ],
   "source": [
    "from skimage import filters\n",
    "\n",
    "\n",
    "edges = filters.scharr(nuclei)\n",
    "\n",
    "nuclei_layer = viewer.layers['nuclei']\n",
    "nuclei_layer.blending = 'additive'\n",
    "nuclei_layer.colormap = 'green'\n",
    "\n",
    "viewer.add_image(\n",
    "    edges,\n",
    "    scale=spacing,\n",
    "    blending='additive',\n",
    "    colormap='magenta',\n",
    ")"
   ]
  },
  {
   "cell_type": "code",
   "execution_count": null,
   "metadata": {
    "tags": [
     "hide-input",
     "remove-input"
    ]
   },
   "outputs": [],
   "source": [
    "nbscreenshot(viewer)"
   ]
  },
  {
   "cell_type": "markdown",
   "metadata": {},
   "source": [
    "## Thresholding\n",
    "\n",
    "[Thresholding](https://en.wikipedia.org/wiki/Thresholding_%28image_processing%29) is used to create binary images. A threshold value determines the intensity value separating foreground pixels from background pixels. Foregound pixels are pixels brighter than the threshold value, background pixels are darker. In many cases, images can be adequately segmented by thresholding followed by labelling of *connected components*, which is a fancy way of saying \"groups of pixels that touch each other\".\n",
    "\n",
    "Different thresholding algorithms produce different results. [Otsu's method](https://en.wikipedia.org/wiki/Otsu%27s_method) and [Li's minimum cross entropy threshold](https://scikit-image.org/docs/dev/auto_examples/developers/plot_threshold_li.html) are two common algorithms. Below, we use Li. You can use `skimage.filters.threshold_<TAB>` to find different thresholding methods."
   ]
  },
  {
   "cell_type": "code",
   "execution_count": 9,
   "metadata": {},
   "outputs": [],
   "source": [
    "denoised = ndi.median_filter(nuclei, size=3)"
   ]
  },
  {
   "cell_type": "code",
   "execution_count": 10,
   "metadata": {},
   "outputs": [],
   "source": [
    "li_thresholded = denoised > filters.threshold_li(denoised)"
   ]
  },
  {
   "cell_type": "code",
   "execution_count": 11,
   "metadata": {},
   "outputs": [
    {
     "data": {
      "text/plain": [
       "<Image layer 'li_thresholded' at 0x7fd1be75e550>"
      ]
     },
     "execution_count": 11,
     "metadata": {},
     "output_type": "execute_result"
    }
   ],
   "source": [
    "viewer.add_image(\n",
    "    li_thresholded,\n",
    "    scale=spacing,\n",
    "    opacity=0.3,\n",
    ")"
   ]
  },
  {
   "cell_type": "code",
   "execution_count": null,
   "metadata": {
    "tags": [
     "hide-input"
    ]
   },
   "outputs": [],
   "source": [
    "nbscreenshot(viewer)"
   ]
  },
  {
   "cell_type": "markdown",
   "metadata": {},
   "source": [
    "## Morphological operations"
   ]
  },
  {
   "cell_type": "markdown",
   "metadata": {},
   "source": [
    "[Mathematical morphology](https://en.wikipedia.org/wiki/Mathematical_morphology) operations and structuring elements are defined in `skimage.morphology`. Structuring elements are shapes which define areas over which an operation is applied. The response to the filter indicates how well the neighborhood corresponds to the structuring element's shape.\n",
    "\n",
    "There are a number of two and three dimensional structuring elements defined in `skimage.morphology`. Not all 2D structuring element have a 3D counterpart. The simplest and most commonly used structuring elements are the `disk`/`ball` and `square`/`cube`."
   ]
  },
  {
   "cell_type": "markdown",
   "metadata": {},
   "source": [
    "Functions operating on [connected components](https://en.wikipedia.org/wiki/Connected_space) can remove small undesired elements while preserving larger shapes.\n",
    "\n",
    "`skimage.morphology.remove_small_holes` fills holes and `skimage.morphology.remove_small_objects` removes bright regions. Both functions accept a size parameter, which is the minimum size (in pixels) of accepted holes or objects. It's useful in 3D to think in linear dimensions, then cube them. In this case, we remove holes / objects of the same size as a cube 20 pixels across."
   ]
  },
  {
   "cell_type": "code",
   "execution_count": 12,
   "metadata": {},
   "outputs": [],
   "source": [
    "from skimage import morphology"
   ]
  },
  {
   "cell_type": "code",
   "execution_count": 13,
   "metadata": {},
   "outputs": [],
   "source": [
    "width = 20\n",
    "\n",
    "remove_holes = morphology.remove_small_holes(\n",
    "    li_thresholded, width ** 3\n",
    ")"
   ]
  },
  {
   "cell_type": "code",
   "execution_count": 14,
   "metadata": {},
   "outputs": [],
   "source": [
    "width = 20\n",
    "\n",
    "remove_objects = morphology.remove_small_objects(\n",
    "    remove_holes, width ** 3\n",
    ")\n",
    "\n",
    "viewer.add_image(\n",
    "    remove_objects,\n",
    "    name='cleaned',\n",
    "    scale=spacing,\n",
    "    opacity=0.3,\n",
    ");\n",
    "\n",
    "viewer.layers['li_thresholded'].visible = False"
   ]
  },
  {
   "cell_type": "code",
   "execution_count": null,
   "metadata": {
    "tags": [
     "hide-input"
    ]
   },
   "outputs": [],
   "source": [
    "nbscreenshot(viewer)"
   ]
  },
  {
   "cell_type": "markdown",
   "metadata": {},
   "source": [
    "## Segmentation"
   ]
  },
  {
   "cell_type": "markdown",
   "metadata": {},
   "source": [
    "Now we are ready to label the connected components of this image."
   ]
  },
  {
   "cell_type": "code",
   "execution_count": 15,
   "metadata": {},
   "outputs": [],
   "source": [
    "from skimage import measure\n",
    "\n",
    "labels = measure.label(remove_objects)\n",
    "\n",
    "viewer.add_labels(\n",
    "    labels,\n",
    "    scale=spacing,\n",
    "    opacity=0.5,\n",
    ")\n",
    "\n",
    "viewer.layers['cleaned'].visible = False"
   ]
  },
  {
   "cell_type": "code",
   "execution_count": null,
   "metadata": {
    "tags": [
     "hide-input"
    ]
   },
   "outputs": [],
   "source": [
    "nbscreenshot(viewer)"
   ]
  },
  {
   "cell_type": "markdown",
   "metadata": {},
   "source": [
    "We can see that tightly packed cells connected in the binary image are assigned the same label."
   ]
  },
  {
   "cell_type": "markdown",
   "metadata": {},
   "source": [
    "A better segmentation would assign different labels to different nuclei. \n",
    "\n",
    "Typically we use [watershed segmentation](https://en.wikipedia.org/wiki/Watershed_%28image_processing%29) for this purpose. We place *markers* at the centre of each object, and these labels are expanded until they meet an edge or an adjacent marker.\n",
    "\n",
    "The trick, then, is how to find these markers. It can be quite challenging to find markers with the right location. A slight amount of noise in the image can result in very wrong point locations. Here is a common approach: find the distance from the object boundaries, then place points at the maximal distance."
   ]
  },
  {
   "cell_type": "code",
   "execution_count": 16,
   "metadata": {},
   "outputs": [
    {
     "data": {
      "text/plain": [
       "<Points layer 'bad points' at 0x7fd1d15385b0>"
      ]
     },
     "execution_count": 16,
     "metadata": {},
     "output_type": "execute_result"
    }
   ],
   "source": [
    "transformed = ndi.distance_transform_edt(remove_objects, sampling=spacing)\n",
    "\n",
    "maxima = morphology.local_maxima(transformed)\n",
    "\n",
    "viewer.add_points(\n",
    "    np.transpose(np.nonzero(maxima)),\n",
    "    name='bad points',\n",
    "    scale=spacing,\n",
    "    size=4,\n",
    "    n_dimensional=True,  # points have 3D \"extent\"\n",
    ")"
   ]
  },
  {
   "cell_type": "code",
   "execution_count": null,
   "metadata": {
    "tags": [
     "hide-input"
    ]
   },
   "outputs": [],
   "source": [
    "nbscreenshot(viewer)"
   ]
  },
  {
   "cell_type": "markdown",
   "metadata": {},
   "source": [
    "You can see that these points are actually terrible, with many markers found within each nuclei."
   ]
  },
  {
   "cell_type": "markdown",
   "metadata": {},
   "source": [
    "### <span style=\"color:cornflowerblue\">Exercise: improve the points</span>\n",
    "\n",
    "Try to improve the segmentation to assign one point for each nucleus. Some ideas:\n",
    "\n",
    "- use a smoothed version of the nuclei image directly\n",
    "- smooth the distance map\n",
    "- use morphological operations to smooth the surface of the nuclei to ensure that they are close to spherical\n",
    "- use peak_local_max with `min_distance` parameter instead of `morphology.local_maxima`\n",
    "- find points on a single plane, then prepend the plane index to the found coordinates"
   ]
  },
  {
   "cell_type": "code",
   "execution_count": 17,
   "metadata": {},
   "outputs": [
    {
     "data": {
      "text/plain": [
       "<Points layer 'better points' at 0x7fd1b9373760>"
      ]
     },
     "execution_count": 17,
     "metadata": {},
     "output_type": "execute_result"
    }
   ],
   "source": [
    "from skimage import feature\n",
    "\n",
    "maxima2 = feature.peak_local_max(\n",
    "    transformed,\n",
    "    indices=False,\n",
    "    min_distance=15,\n",
    "    threshold_abs=0.0001,\n",
    "    threshold_rel=0.0001,\n",
    "    exclude_border=False,\n",
    ")\n",
    "\n",
    "viewer.add_points(\n",
    "    np.transpose(np.nonzero(maxima2)),\n",
    "    name='better points',\n",
    "    scale=spacing,\n",
    "    size=4,\n",
    "    n_dimensional=True,  # points have 3D \"extent\"\n",
    ")"
   ]
  },
  {
   "cell_type": "code",
   "execution_count": 18,
   "metadata": {},
   "outputs": [],
   "source": [
    "proofread_points = viewer.layers['better points'].data"
   ]
  },
  {
   "cell_type": "code",
   "execution_count": 19,
   "metadata": {},
   "outputs": [
    {
     "name": "stdout",
     "output_type": "stream",
     "text": [
      "[[ 32 205 169]\n",
      " [ 32 251 197]\n",
      " [ 33 219 248]\n",
      " [ 34  98 255]\n",
      " [ 34 185  45]\n",
      " [ 34 217  81]\n",
      " [ 34 233 126]\n",
      " [ 35  47 229]\n",
      " [ 35  67 110]\n",
      " [ 35 147 191]\n",
      " [ 35 147 245]\n",
      " [ 35 156 107]\n",
      " [ 36  12  19]\n",
      " [ 36  13 153]\n",
      " [ 36  36  72]\n",
      " [ 36  46 183]\n",
      " [ 36  99 160]\n",
      " [ 38  76  60]\n",
      " [ 39 141  39]]\n"
     ]
    }
   ],
   "source": [
    "print(proofread_points)"
   ]
  },
  {
   "cell_type": "markdown",
   "metadata": {},
   "source": [
    "As you will have seen from the previous exercise, there are many approaches to find better seed points, but they are often fiddly and tedious, and sensitive to parameters — when you encounter a new image, you might have to start all over again!\n",
    "\n",
    "With napari, in many cases, a little interactivity, combined with the segmentation algorithms in scikit-image and elsewhere, can quickly get us the segmentation we want.\n",
    "\n",
    "Below, you can use full manual annotation, or light editing of the points you found automatically."
   ]
  },
  {
   "cell_type": "code",
   "execution_count": null,
   "metadata": {},
   "outputs": [],
   "source": [
    "viewer.layers['bad points'].visible = False\n",
    "viewer.dims.ndisplay = 2\n",
    "viewer.dims.set_point(0, 30 * spacing[0])\n",
    "\n",
    "points = viewer.add_points(\n",
    "    name='interactive points',\n",
    "    scale=spacing,\n",
    "    ndim=3,\n",
    "    size=4,\n",
    "    n_dimensional=True,\n",
    ")\n",
    "points.mode = 'add'\n",
    "\n",
    "\n",
    "# now, we annotate the centers of the nuclei in your image"
   ]
  },
  {
   "cell_type": "code",
   "execution_count": null,
   "metadata": {
    "tags": [
     "remove-input"
    ]
   },
   "outputs": [],
   "source": [
    "viewer.dims.ndisplay = 3\n",
    "viewer.camera.angles = (-30, 25, 120)\n",
    "nbscreenshot(viewer)"
   ]
  },
  {
   "cell_type": "code",
   "execution_count": null,
   "metadata": {
    "tags": [
     "hide-cell",
     "remove-input",
     "remove-output"
    ]
   },
   "outputs": [],
   "source": [
    "# unscaled points.data\n",
    "# this cell is only to simulate interactive annotation,\n",
    "# no need to run it if you already have annotations.\n",
    "\n",
    "\n",
    "points.data = np.array(\n",
    "      [[ 30.        ,  14.2598685 ,  27.7741219 ],\n",
    "       [ 30.        ,  30.10416663,  81.36513029],\n",
    "       [ 30.        ,  13.32785096, 144.27631406],\n",
    "       [ 30.        ,  46.8804823 , 191.80920846],\n",
    "       [ 30.        ,  43.15241215, 211.84758551],\n",
    "       [ 30.        ,  94.87938547, 160.12061219],\n",
    "       [ 30.        ,  72.97697335, 112.58771779],\n",
    "       [ 30.        , 138.21820096, 189.01315585],\n",
    "       [ 30.        , 144.74232372, 242.60416424],\n",
    "       [ 30.        ,  98.14144685, 251.92433962],\n",
    "       [ 30.        , 153.59649032, 112.58771779],\n",
    "       [ 30.        , 134.49013081,  40.35635865],\n",
    "       [ 30.        , 182.95504275,  48.74451649],\n",
    "       [ 30.        , 216.04166532,  80.89912152],\n",
    "       [ 30.        , 235.14802483, 130.296051  ],\n",
    "       [ 30.        , 196.00328827, 169.44078757],\n",
    "       [ 30.        , 245.86622651, 202.06140137],\n",
    "       [ 30.        , 213.71162148, 250.52631331],\n",
    "       [ 28.        ,  87.42324517,  52.00657787]],\n",
    "      dtype=float,\n",
    ")"
   ]
  },
  {
   "cell_type": "markdown",
   "metadata": {},
   "source": [
    "Once you have marked all the points, you can grab the data back, and make a markers image for `skimage.segmentation.watershed`:"
   ]
  },
  {
   "cell_type": "code",
   "execution_count": 20,
   "metadata": {},
   "outputs": [],
   "source": [
    "from skimage import segmentation\n",
    "\n",
    "marker_locations = proofread_points\n",
    "\n",
    "markers = np.zeros(nuclei.shape, dtype=np.uint32)\n",
    "marker_indices = tuple(np.round(marker_locations).astype(int).T)\n",
    "markers[marker_indices] = np.arange(len(marker_locations)) + 1\n",
    "markers_big = morphology.dilation(markers, morphology.ball(5))\n",
    "\n",
    "segmented = segmentation.watershed(\n",
    "    edges,\n",
    "    markers_big,\n",
    "    mask=remove_objects,\n",
    ")\n",
    "\n",
    "viewer.add_labels(\n",
    "    segmented,\n",
    "    scale=spacing,\n",
    ")\n",
    "\n",
    "viewer.layers['labels'].visible = False"
   ]
  },
  {
   "cell_type": "code",
   "execution_count": null,
   "metadata": {
    "tags": [
     "remove-input"
    ]
   },
   "outputs": [],
   "source": [
    "nbscreenshot(viewer)"
   ]
  },
  {
   "cell_type": "markdown",
   "metadata": {},
   "source": [
    "After watershed, we have better disambiguation between internal cells!"
   ]
  },
  {
   "cell_type": "markdown",
   "metadata": {},
   "source": [
    "## Making measurements"
   ]
  },
  {
   "cell_type": "markdown",
   "metadata": {},
   "source": [
    "Once we have defined our objects, we can make measurements on them using `skimage.measure.regionprops` and the new `skimage.measure.regionprops_table`. These measurements include features such as area or volume, bounding boxes, and intensity statistics.\n",
    "\n",
    "Before measuring objects, it helps to clear objects from the image border. Measurements should only be collected for objects entirely contained in the image.\n",
    "\n",
    "Given the layer-like structure of our data, we only want to clear the objects touching the sides of the volume, but not the top and bottom, so we pad and crop the volume along the 0th axis to avoid clearing the mitotic nucleus."
   ]
  },
  {
   "cell_type": "code",
   "execution_count": 21,
   "metadata": {},
   "outputs": [],
   "source": [
    "segmented_padded = np.pad(\n",
    "    segmented,\n",
    "    ((1, 1), (0, 0), (0, 0)),\n",
    "    mode='constant',\n",
    "    constant_values=0,\n",
    ")"
   ]
  },
  {
   "cell_type": "code",
   "execution_count": 22,
   "metadata": {},
   "outputs": [],
   "source": [
    "interior_labels = segmentation.clear_border(segmented_padded)[1:-1]"
   ]
  },
  {
   "cell_type": "code",
   "execution_count": 24,
   "metadata": {},
   "outputs": [
    {
     "data": {
      "text/plain": [
       "<Labels layer 'interior_labels' at 0x7fd19a0e7430>"
      ]
     },
     "execution_count": 24,
     "metadata": {},
     "output_type": "execute_result"
    }
   ],
   "source": [
    "viewer.add_labels(\n",
    "    interior_labels,\n",
    "    scale=spacing,\n",
    ")"
   ]
  },
  {
   "cell_type": "markdown",
   "metadata": {},
   "source": [
    "`skimage.measure.regionprops` automatically measures many labeled image features. Optionally, an `intensity_image` can be supplied and intensity features are extracted per object. It's good practice to make measurements on the original image.\n",
    "\n",
    "Not all properties are supported for 3D data. Below we build a list of supported and unsupported 3D measurements."
   ]
  },
  {
   "cell_type": "code",
   "execution_count": 25,
   "metadata": {},
   "outputs": [
    {
     "name": "stdout",
     "output_type": "stream",
     "text": [
      "Supported properties:\n",
      "  area\n",
      "  bbox\n",
      "  bbox_area\n",
      "  centroid\n",
      "  convex_area\n",
      "  convex_image\n",
      "  coords\n",
      "  equivalent_diameter\n",
      "  euler_number\n",
      "  extent\n",
      "  filled_area\n",
      "  filled_image\n",
      "  image\n",
      "  inertia_tensor\n",
      "  inertia_tensor_eigvals\n",
      "  intensity_image\n",
      "  label\n",
      "  local_centroid\n",
      "  major_axis_length\n",
      "  max_intensity\n",
      "  mean_intensity\n",
      "  min_intensity\n",
      "  minor_axis_length\n",
      "  moments\n",
      "  moments_central\n",
      "  moments_normalized\n",
      "  slice\n",
      "  solidity\n",
      "  weighted_centroid\n",
      "  weighted_local_centroid\n",
      "  weighted_moments\n",
      "  weighted_moments_central\n",
      "  weighted_moments_normalized\n",
      "\n",
      "Unsupported properties:\n",
      "  eccentricity\n",
      "  moments_hu\n",
      "  orientation\n",
      "  perimeter\n",
      "  weighted_moments_hu\n"
     ]
    }
   ],
   "source": [
    "regionprops = measure.regionprops(interior_labels, intensity_image=nuclei)\n",
    "\n",
    "supported = [] \n",
    "unsupported = []\n",
    "\n",
    "for prop in regionprops[0]:\n",
    "    try:\n",
    "        regionprops[0][prop]\n",
    "        supported.append(prop)\n",
    "    except NotImplementedError:\n",
    "        unsupported.append(prop)\n",
    "\n",
    "print(\"Supported properties:\")\n",
    "print(\"  \" + \"\\n  \".join(supported))\n",
    "print()\n",
    "print(\"Unsupported properties:\")\n",
    "print(\"  \" + \"\\n  \".join(unsupported))"
   ]
  },
  {
   "cell_type": "markdown",
   "metadata": {},
   "source": [
    "scikit-image 0.18 adds support for [passing custom functions](https://scikit-image.org/docs/dev/api/skimage.measure.html#skimage.measure.regionprops) for region properties as `extra_properties`. After this tutorial, you might want to try it out to [determine the surface area](https://github.com/scikit-image/scikit-image/issues/3797#issuecomment-471277056) of the nuclei or cells!"
   ]
  },
  {
   "cell_type": "markdown",
   "metadata": {},
   "source": [
    "`skimage.measure.regionprops` ignores the 0 label, which represents the background."
   ]
  },
  {
   "cell_type": "markdown",
   "metadata": {},
   "source": [
    "`regionprops_table` returns a dictionary of columns compatible with creating a pandas dataframe of properties of the data:"
   ]
  },
  {
   "cell_type": "code",
   "execution_count": 26,
   "metadata": {},
   "outputs": [],
   "source": [
    "import pandas as pd\n",
    "\n",
    "\n",
    "info_table = pd.DataFrame(\n",
    "    measure.regionprops_table(\n",
    "        interior_labels,\n",
    "        intensity_image=nuclei,\n",
    "        properties=['label', 'slice', 'area', 'mean_intensity', 'solidity'],\n",
    "    )\n",
    ").set_index('label')"
   ]
  },
  {
   "cell_type": "code",
   "execution_count": 27,
   "metadata": {},
   "outputs": [
    {
     "data": {
      "text/html": [
       "<div>\n",
       "<style scoped>\n",
       "    .dataframe tbody tr th:only-of-type {\n",
       "        vertical-align: middle;\n",
       "    }\n",
       "\n",
       "    .dataframe tbody tr th {\n",
       "        vertical-align: top;\n",
       "    }\n",
       "\n",
       "    .dataframe thead th {\n",
       "        text-align: right;\n",
       "    }\n",
       "</style>\n",
       "<table border=\"1\" class=\"dataframe\">\n",
       "  <thead>\n",
       "    <tr style=\"text-align: right;\">\n",
       "      <th></th>\n",
       "      <th>slice</th>\n",
       "      <th>area</th>\n",
       "      <th>mean_intensity</th>\n",
       "      <th>solidity</th>\n",
       "    </tr>\n",
       "    <tr>\n",
       "      <th>label</th>\n",
       "      <th></th>\n",
       "      <th></th>\n",
       "      <th></th>\n",
       "      <th></th>\n",
       "    </tr>\n",
       "  </thead>\n",
       "  <tbody>\n",
       "    <tr>\n",
       "      <th>1</th>\n",
       "      <td>(slice(19, 50, None), slice(176, 228, None), s...</td>\n",
       "      <td>48979</td>\n",
       "      <td>0.231506</td>\n",
       "      <td>0.901310</td>\n",
       "    </tr>\n",
       "    <tr>\n",
       "      <th>5</th>\n",
       "      <td>(slice(19, 52, None), slice(158, 209, None), s...</td>\n",
       "      <td>40226</td>\n",
       "      <td>0.198043</td>\n",
       "      <td>0.904423</td>\n",
       "    </tr>\n",
       "    <tr>\n",
       "      <th>6</th>\n",
       "      <td>(slice(17, 53, None), slice(192, 252, None), s...</td>\n",
       "      <td>58046</td>\n",
       "      <td>0.213391</td>\n",
       "      <td>0.905300</td>\n",
       "    </tr>\n",
       "    <tr>\n",
       "      <th>8</th>\n",
       "      <td>(slice(20, 52, None), slice(23, 75, None), sli...</td>\n",
       "      <td>36993</td>\n",
       "      <td>0.181161</td>\n",
       "      <td>0.913002</td>\n",
       "    </tr>\n",
       "    <tr>\n",
       "      <th>9</th>\n",
       "      <td>(slice(19, 51, None), slice(47, 99, None), sli...</td>\n",
       "      <td>40504</td>\n",
       "      <td>0.185613</td>\n",
       "      <td>0.911985</td>\n",
       "    </tr>\n",
       "  </tbody>\n",
       "</table>\n",
       "</div>"
      ],
      "text/plain": [
       "                                                   slice   area  \\\n",
       "label                                                             \n",
       "1      (slice(19, 50, None), slice(176, 228, None), s...  48979   \n",
       "5      (slice(19, 52, None), slice(158, 209, None), s...  40226   \n",
       "6      (slice(17, 53, None), slice(192, 252, None), s...  58046   \n",
       "8      (slice(20, 52, None), slice(23, 75, None), sli...  36993   \n",
       "9      (slice(19, 51, None), slice(47, 99, None), sli...  40504   \n",
       "\n",
       "       mean_intensity  solidity  \n",
       "label                            \n",
       "1            0.231506  0.901310  \n",
       "5            0.198043  0.904423  \n",
       "6            0.213391  0.905300  \n",
       "8            0.181161  0.913002  \n",
       "9            0.185613  0.911985  "
      ]
     },
     "execution_count": 27,
     "metadata": {},
     "output_type": "execute_result"
    }
   ],
   "source": [
    "info_table.head()"
   ]
  },
  {
   "cell_type": "markdown",
   "metadata": {},
   "source": [
    "We can now use pandas and seaborn for some analysis!"
   ]
  },
  {
   "cell_type": "code",
   "execution_count": 28,
   "metadata": {},
   "outputs": [
    {
     "data": {
      "image/png": "[encoded data removed]",
      "text/plain": [
       "<Figure size 432x288 with 1 Axes>"
      ]
     },
     "metadata": {
      "image/png": {
       "height": 261,
       "width": 391
      },
      "needs_background": "light"
     },
     "output_type": "display_data"
    }
   ],
   "source": [
    "import seaborn as sns\n",
    "\n",
    "sns.scatterplot(x='area', y='solidity', data=info_table, hue='mean_intensity');"
   ]
  },
  {
   "cell_type": "markdown",
   "metadata": {},
   "source": [
    "We can see that the mitotic nucleus is a clear outlier from the others in terms of solidity and intensity."
   ]
  },
  {
   "cell_type": "markdown",
   "metadata": {},
   "source": [
    "### <span style=\"color:cornflowerblue\">Exercise: physical measurements</span>\n",
    "\n",
    "The \"area\" property above is actually the volume of the region, measured in voxels. Add a new column to your dataframe, `'area_um3'`, containing the volume in µm&sup3;."
   ]
  },
  {
   "cell_type": "code",
   "execution_count": 29,
   "metadata": {},
   "outputs": [
    {
     "data": {
      "text/plain": [
       "Index(['slice', 'area', 'mean_intensity', 'solidity'], dtype='object')"
      ]
     },
     "execution_count": 29,
     "metadata": {},
     "output_type": "execute_result"
    }
   ],
   "source": [
    "info_table.columns"
   ]
  },
  {
   "cell_type": "code",
   "execution_count": 31,
   "metadata": {},
   "outputs": [],
   "source": [
    "info_table['area_um3'] = info_table['area'] * np.product(spacing)"
   ]
  },
  {
   "cell_type": "code",
   "execution_count": 32,
   "metadata": {},
   "outputs": [
    {
     "data": {
      "text/html": [
       "<div>\n",
       "<style scoped>\n",
       "    .dataframe tbody tr th:only-of-type {\n",
       "        vertical-align: middle;\n",
       "    }\n",
       "\n",
       "    .dataframe tbody tr th {\n",
       "        vertical-align: top;\n",
       "    }\n",
       "\n",
       "    .dataframe thead th {\n",
       "        text-align: right;\n",
       "    }\n",
       "</style>\n",
       "<table border=\"1\" class=\"dataframe\">\n",
       "  <thead>\n",
       "    <tr style=\"text-align: right;\">\n",
       "      <th></th>\n",
       "      <th>slice</th>\n",
       "      <th>area</th>\n",
       "      <th>mean_intensity</th>\n",
       "      <th>solidity</th>\n",
       "      <th>area_um3</th>\n",
       "    </tr>\n",
       "    <tr>\n",
       "      <th>label</th>\n",
       "      <th></th>\n",
       "      <th></th>\n",
       "      <th></th>\n",
       "      <th></th>\n",
       "      <th></th>\n",
       "    </tr>\n",
       "  </thead>\n",
       "  <tbody>\n",
       "    <tr>\n",
       "      <th>1</th>\n",
       "      <td>(slice(19, 50, None), slice(176, 228, None), s...</td>\n",
       "      <td>48979</td>\n",
       "      <td>0.231506</td>\n",
       "      <td>0.901310</td>\n",
       "      <td>960.184316</td>\n",
       "    </tr>\n",
       "    <tr>\n",
       "      <th>5</th>\n",
       "      <td>(slice(19, 52, None), slice(158, 209, None), s...</td>\n",
       "      <td>40226</td>\n",
       "      <td>0.198043</td>\n",
       "      <td>0.904423</td>\n",
       "      <td>788.590504</td>\n",
       "    </tr>\n",
       "    <tr>\n",
       "      <th>6</th>\n",
       "      <td>(slice(17, 53, None), slice(192, 252, None), s...</td>\n",
       "      <td>58046</td>\n",
       "      <td>0.213391</td>\n",
       "      <td>0.905300</td>\n",
       "      <td>1137.933784</td>\n",
       "    </tr>\n",
       "    <tr>\n",
       "      <th>8</th>\n",
       "      <td>(slice(20, 52, None), slice(23, 75, None), sli...</td>\n",
       "      <td>36993</td>\n",
       "      <td>0.181161</td>\n",
       "      <td>0.913002</td>\n",
       "      <td>725.210772</td>\n",
       "    </tr>\n",
       "    <tr>\n",
       "      <th>9</th>\n",
       "      <td>(slice(19, 51, None), slice(47, 99, None), sli...</td>\n",
       "      <td>40504</td>\n",
       "      <td>0.185613</td>\n",
       "      <td>0.911985</td>\n",
       "      <td>794.040416</td>\n",
       "    </tr>\n",
       "  </tbody>\n",
       "</table>\n",
       "</div>"
      ],
      "text/plain": [
       "                                                   slice   area  \\\n",
       "label                                                             \n",
       "1      (slice(19, 50, None), slice(176, 228, None), s...  48979   \n",
       "5      (slice(19, 52, None), slice(158, 209, None), s...  40226   \n",
       "6      (slice(17, 53, None), slice(192, 252, None), s...  58046   \n",
       "8      (slice(20, 52, None), slice(23, 75, None), sli...  36993   \n",
       "9      (slice(19, 51, None), slice(47, 99, None), sli...  40504   \n",
       "\n",
       "       mean_intensity  solidity     area_um3  \n",
       "label                                         \n",
       "1            0.231506  0.901310   960.184316  \n",
       "5            0.198043  0.904423   788.590504  \n",
       "6            0.213391  0.905300  1137.933784  \n",
       "8            0.181161  0.913002   725.210772  \n",
       "9            0.185613  0.911985   794.040416  "
      ]
     },
     "execution_count": 32,
     "metadata": {},
     "output_type": "execute_result"
    }
   ],
   "source": [
    "info_table.head()"
   ]
  },
  {
   "cell_type": "code",
   "execution_count": null,
   "metadata": {},
   "outputs": [],
   "source": []
  },
  {
   "cell_type": "code",
   "execution_count": null,
   "metadata": {},
   "outputs": [],
   "source": [
    "info_table['area_um3'] = info_table['area'] * np.product"
   ]
  },
  {
   "cell_type": "markdown",
   "metadata": {},
   "source": [
    "### <span style=\"color:cornflowerblue\">Exercise: full cell segmentation</span>\n",
    "\n",
    "Above, we loaded the membranes image into memory, but we have yet to use it.\n",
    "\n",
    "- Add the membranes to the image.\n",
    "- Use watershed to segment the full cells, and add the segmentation to the display"
   ]
  },
  {
   "cell_type": "code",
   "execution_count": null,
   "metadata": {},
   "outputs": [],
   "source": []
  },
  {
   "cell_type": "markdown",
   "metadata": {},
   "source": [
    "### <span style=\"color:cornflowerblue\">Exercise: displaying regionprops (or other values)</span>\n",
    "\n",
    "Now that you have segmented cells, (or even with just the nuclei), use [`skimage.util.map_array`](https://scikit-image.org/docs/dev/api/skimage.util.html#skimage.util.map_array) to display a volume of the value of a regionprop (say, 'solidity' of the cells) on top of the segments."
   ]
  },
  {
   "cell_type": "code",
   "execution_count": null,
   "metadata": {},
   "outputs": [],
   "source": []
  }
 ],
 "metadata": {
  "celltoolbar": "Tags",
  "kernelspec": {
   "display_name": "Python 3",
   "language": "python",
   "name": "python3"
  },
  "language_info": {
   "codemirror_mode": {
    "name": "ipython",
    "version": 3
   },
   "file_extension": ".py",
   "mimetype": "text/x-python",
   "name": "python",
   "nbconvert_exporter": "python",
   "pygments_lexer": "ipython3",
   "version": "3.8.6"
  }
 },
 "nbformat": 4,
 "nbformat_minor": 2
}
