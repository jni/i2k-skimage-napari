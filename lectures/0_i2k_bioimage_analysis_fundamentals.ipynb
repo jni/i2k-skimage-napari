{
 "cells": [
  {
   "cell_type": "markdown",
   "metadata": {},
   "source": [
    "# I2K 2020: Bioimage analysis fundamentals\n",
    "\n",
    "## with scikit-image, napari, & friends\n",
    "\n",
    "### schedule\n",
    "\n",
    "- Intro: 10min\n",
    "- [filtering from scratch](1_image_filters.ipynb): 50min\n",
    "- break: 15min\n",
    "- [interactive segmentation and regionprops](2_segmentation_and_regionprops.ipynb): 50min\n",
    "- break: 30min\n",
    "- [out-of-core processing and vis with dask](3_dask.ipynb): 50min\n",
    "- break: 15min\n",
    "- discussion, Q&A ([session 1](4_discussion_session_1.ipynb), [session 2](4_discussion_session_1.ipynb)): 50min"
   ]
  }
 ],
 "metadata": {
  "kernelspec": {
   "display_name": "Python 3",
   "language": "python",
   "name": "python3"
  },
  "language_info": {
   "codemirror_mode": {
    "name": "ipython",
    "version": 3
   },
   "file_extension": ".py",
   "mimetype": "text/x-python",
   "name": "python",
   "nbconvert_exporter": "python",
   "pygments_lexer": "ipython3",
   "version": "3.8.2"
  }
 },
 "nbformat": 4,
 "nbformat_minor": 4
}
