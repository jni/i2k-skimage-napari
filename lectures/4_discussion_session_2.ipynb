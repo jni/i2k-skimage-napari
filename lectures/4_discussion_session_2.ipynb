{
 "cells": [
  {
   "cell_type": "markdown",
   "metadata": {},
   "source": [
    "# discussion"
   ]
  },
  {
   "cell_type": "markdown",
   "metadata": {},
   "source": [
    "We will use this time for some free discussion about napari, scikit-image, and scientific Python more generally. Possible topics:\n",
    "\n",
    "- The napari [0.4 roadmap](https://github.com/napari/napari/pull/1906)\n",
    "- building UIs with magicgui\n",
    "- embedding matplotlib widgets and adding interactivity with matplotlib (e.g. [mass spec imaging](https://twitter.com/jnuneziglesias/status/1286599143008346112) or [napariboard](https://github.com/jni/napariboard-proto))\n",
    "- creating and using IO plugins\n",
    "- next generation file formats and napari\n",
    "- contributing to open source\n",
    "- any issues you've had using skimage or napari with your own data"
   ]
  },
  {
   "cell_type": "code",
   "execution_count": null,
   "metadata": {},
   "outputs": [],
   "source": []
  }
 ],
 "metadata": {
  "kernelspec": {
   "display_name": "Python 3",
   "language": "python",
   "name": "python3"
  },
  "language_info": {
   "codemirror_mode": {
    "name": "ipython",
    "version": 3
   },
   "file_extension": ".py",
   "mimetype": "text/x-python",
   "name": "python",
   "nbconvert_exporter": "python",
   "pygments_lexer": "ipython3",
   "version": "3.8.2"
  }
 },
 "nbformat": 4,
 "nbformat_minor": 4
}
